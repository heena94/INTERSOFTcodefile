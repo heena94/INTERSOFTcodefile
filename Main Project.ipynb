{
 "cells": [
  {
   "cell_type": "code",
   "execution_count": 1,
   "metadata": {},
   "outputs": [],
   "source": [
    "import os\n",
    "import time\n",
    "import subprocess\n",
    "import json"
   ]
  },
  {
   "cell_type": "code",
   "execution_count": 2,
   "metadata": {},
   "outputs": [],
   "source": [
    "import wolframalpha\n",
    "import requests\n",
    "import webbrowser\n",
    "import wikipedia\n",
    "import datetime"
   ]
  },
  {
   "cell_type": "code",
   "execution_count": 3,
   "metadata": {},
   "outputs": [],
   "source": [
    "import speech_recognition as sr\n",
    "import pyttsx3"
   ]
  },
  {
   "cell_type": "code",
   "execution_count": 4,
   "metadata": {},
   "outputs": [
    {
     "name": "stdout",
     "output_type": "stream",
     "text": [
      "LOADING YOUR PERSONAL ASSISTANT JARVIS\n"
     ]
    }
   ],
   "source": [
    "print('LOADING YOUR PERSONAL ASSISTANT JARVIS')"
   ]
  },
  {
   "cell_type": "code",
   "execution_count": 5,
   "metadata": {},
   "outputs": [],
   "source": [
    "engine = pyttsx3.init('sapi5')"
   ]
  },
  {
   "cell_type": "code",
   "execution_count": 6,
   "metadata": {},
   "outputs": [],
   "source": [
    "voices = engine.getProperty('voices')\n",
    "engine.setProperty(\"voice\",'voice[1].id')"
   ]
  },
  {
   "cell_type": "code",
   "execution_count": 7,
   "metadata": {},
   "outputs": [],
   "source": [
    "def speak(text):\n",
    "    engine.say(text)\n",
    "    engine.runAndWait()\n",
    "    "
   ]
  },
  {
   "cell_type": "code",
   "execution_count": 8,
   "metadata": {},
   "outputs": [],
   "source": [
    "def wishMe():\n",
    "    hour = datetime.datetime.now().hour\n",
    "    if hour >= 0 and hour < 12:\n",
    "        speak(\"Assalamualaikum, good morning Ms.Heena Kausar\")\n",
    "        print(\"Assalamualaikum, good morning Ms.Heena Kausar\")\n",
    "    elif hour >= 12 and hour <= 18:\n",
    "        speak(\"Assalamualaikum, good morning Ms.Heena Kausar\")\n",
    "        print(\"Assalamualaikum, good morning Ms.Heena Kausar\")\n",
    "    else:\n",
    "        speak(\"Its already the night time better go to sleep\")\n",
    "        print(\"Its already the night time better go to sleep\")\n",
    "        "
   ]
  },
  {
   "cell_type": "code",
   "execution_count": 9,
   "metadata": {},
   "outputs": [],
   "source": [
    "def takeCommand():\n",
    "    a = sr.Recognizer()\n",
    "    with sr.Microphone() as source:\n",
    "        print(\"i AM LISTENING\")\n",
    "        audio = a.listen(source)\n",
    "        \n",
    "        try:\n",
    "            statement = a.recognize_google(audio,language='en-in')\n",
    "            print(f\"user said:{statement}\\n\")\n",
    "            \n",
    "        except Exception as e:\n",
    "            speak(\"pardon me, please say that again\")\n",
    "            return \"None\"\n",
    "        return statement"
   ]
  },
  {
   "cell_type": "code",
   "execution_count": null,
   "metadata": {},
   "outputs": [],
   "source": [
    "speak(\"LOADING YOUR PERSONAL A.I ASSISTANT JARVIS\")\n",
    "wishMe()"
   ]
  },
  {
   "cell_type": "code",
   "execution_count": 10,
   "metadata": {},
   "outputs": [
    {
     "name": "stdout",
     "output_type": "stream",
     "text": [
      "i AM LISTENING\n",
      "user said:who made you\n",
      "\n",
      "I WAS BUILT BY HEENA KAUSAR\n",
      "i AM LISTENING\n",
      "i AM LISTENING\n",
      "user said:open YouTube\n",
      "\n",
      "i AM LISTENING\n",
      "user said:who made you\n",
      "\n",
      "I WAS BUILT BY HEENA KAUSAR\n",
      "i AM LISTENING\n",
      "user said:what's the time\n",
      "\n",
      "i AM LISTENING\n",
      "user said:timer 10 12\n",
      "\n",
      "i AM LISTENING\n",
      "user said:mission mangal\n",
      "\n",
      "i AM LISTENING\n",
      "i AM LISTENING\n",
      "user said:who are you\n",
      "\n"
     ]
    },
    {
     "ename": "NameError",
     "evalue": "name 'spaek' is not defined",
     "output_type": "error",
     "traceback": [
      "\u001b[1;31m---------------------------------------------------------------------------\u001b[0m",
      "\u001b[1;31mNameError\u001b[0m                                 Traceback (most recent call last)",
      "\u001b[1;32m<ipython-input-10-c201403d3329>\u001b[0m in \u001b[0;36m<module>\u001b[1;34m\u001b[0m\n\u001b[0;32m     57\u001b[0m \u001b[1;33m\u001b[0m\u001b[0m\n\u001b[0;32m     58\u001b[0m         \u001b[1;32melif\u001b[0m\u001b[1;34m\"who are you\"\u001b[0m \u001b[1;32min\u001b[0m \u001b[0mstatement\u001b[0m \u001b[1;32mor\u001b[0m \u001b[1;34m\"what can you do\"\u001b[0m \u001b[1;32min\u001b[0m \u001b[0mstatement\u001b[0m\u001b[1;33m:\u001b[0m\u001b[1;33m\u001b[0m\u001b[1;33m\u001b[0m\u001b[0m\n\u001b[1;32m---> 59\u001b[1;33m             \u001b[0mspaek\u001b[0m\u001b[1;33m(\u001b[0m\u001b[1;34m\"I am JARVIS version 1 point 0 your personal assistant. I am programmed to minor task like'opening youtube, google chorme, gmail and stack overflow, predict time,take a photo, search wikipedia,predict weather in different cities, get top headline news from the time of India and you can ask me computational or geographical questions too!'\"\u001b[0m\u001b[1;33m)\u001b[0m\u001b[1;33m\u001b[0m\u001b[1;33m\u001b[0m\u001b[0m\n\u001b[0m\u001b[0;32m     60\u001b[0m \u001b[1;33m\u001b[0m\u001b[0m\n\u001b[0;32m     61\u001b[0m \u001b[1;33m\u001b[0m\u001b[0m\n",
      "\u001b[1;31mNameError\u001b[0m: name 'spaek' is not defined"
     ]
    }
   ],
   "source": [
    "if __name__ == '__main__':\n",
    "    while True:\n",
    "        speak(\"HOW CAN I HELP YOU?\")\n",
    "        statement = takeCommand().lower()\n",
    "        if statement == 0:\n",
    "            continue\n",
    "        if \"good bye\" in statement or \"ok bye\" in statement or \"stop\" in statement:\n",
    "            speak(\"Its already the night time better go to sleep\")\n",
    "            print(\"Its already the night time better go to sleep\")\n",
    "            break\n",
    "        if 'wikipedia' in statement:\n",
    "            speak(\"searching wikipedia.............\")\n",
    "            statement = statement.replace(\"wikipedia\",\"\")\n",
    "            result = wikipedia.summary(statement , sentences = 4)\n",
    "            speak(\"According to wikipedia.....\")\n",
    "            print(results)\n",
    "            speak(results)\n",
    "           \n",
    "        elif\"open youtube\" in statement:\n",
    "            webbrowser.open_new_tab(\"https://www.youtube.com\")\n",
    "            speak(\"youtube is open for you\")\n",
    "            time.sleep(5)\n",
    "                  \n",
    "        elif \"open google\" in statement:\n",
    "             webbrowser.open_new_tab(\"http://www.google.com\")\n",
    "             speak(\"google search is open for you\")\n",
    "             time.sleep(5)\n",
    "                  \n",
    "        elif \"open gmail\" in statement:\n",
    "             webbroser.open__new_tab(\"gmail.com\")\n",
    "             speak(\"your gmail is open for you\")\n",
    "             time.sleep(5)\n",
    "      \n",
    "        elif \"weather\" in statement:\n",
    "                  api_key = '8ef61edcf1c576d65d836254e11ea420'\n",
    "                  base_url = \"https://api.openweathermap.org/data/2.5/weather?\"\n",
    "                  speak(\"whats the city name?\")\n",
    "                  city_name = takeCommand()\n",
    "                  complete_url = base_url + \"appid = \"+api_key+\"&q=\"+city_name\n",
    "                  response = requests.get(complete_url)\n",
    "                  x = response.json()\n",
    "                  if x[\"cod\"] != \"404\":\n",
    "                      y = x[\"main\"]\n",
    "                      current_temperature = y[\"temp\"]\n",
    "                      current_humidity = y[\"humidity\"]\n",
    "                      z = x[\"weather\"]\n",
    "                      weather_description = z[0][\"description\"]\n",
    "                      speak(\"the temperature in kelvin units is\" + str(current_temperature) +\"\\n humidity in percentage is\" + str(current_humidity)+\"\\n weather description\" + str(weather_description))\n",
    "                      print(\"the temperature in kelvin units is\" + str(current_temperature) +\"\\n humidity in percentage is\" + str(current_humidity)+\"\\n weather description\" + str(weather_description))\n",
    "                  else:\n",
    "                        speak(\"city not found\")\n",
    "                        print(\"city not found\")\n",
    "                        \n",
    "        elif\"time\" in statement: \n",
    "            strTime = datetime.datetime.now().strftime(\"%H:%M:%S\")\n",
    "            speak(f\"the time is {strTime}\")\n",
    "            \n",
    "        elif\"who are you\" in statement or \"what can you do\" in statement:\n",
    "            spaek(\"I am JARVIS version 1 point 0 your personal assistant. I am programmed to minor task like'opening youtube, google chorme, gmail and stack overflow, predict time,take a photo, search wikipedia,predict weather in different cities, get top headline news from the time of India and you can ask me computational or geographical questions too!'\")\n",
    "                  \n",
    "       \n",
    "        elif\"who made you\" in statement or \"who created you\" in statement or \"who discovered you\" in statement:\n",
    "             speak(\"I WAS BUILT BY HEENA KAUSAR\")\n",
    "             print(\"I WAS BUILT BY HEENA KAUSAR\")\n",
    "                  \n",
    "        elif\"open stack overflow\" in statement:\n",
    "            webbrowser.open_new_tab(\"https://stackoverflow.com/login\")\n",
    "                  \n",
    "        elif\"news\" in statement:\n",
    "            news = webbrowser.open_new_tab(\"https://timesofindia.indiatimes.com/home/headlines\")\n",
    "            speak(\"here are some headlines for you from times of India - happy reading\")\n",
    "            time.sleep(7)\n",
    "                  \n",
    "        elif\"search\" in statement:\n",
    "            statement = statement.replace(\"search\",\" \")\n",
    "            webbrowser.open_new_tab(\"statement\")\n",
    "            time.sleep(5)\n",
    "                  \n",
    "        elif\"ask\" in statement:\n",
    "           speak(\"Ican answer to computational and geographical questions too just try me!! what do you want to ask\")\n",
    "           question = takeCommand()\n",
    "           app_id = \"R2K75H-7ELALHR35X\" \n",
    "           client = wolframalpha.client(\"R2K75H-7ELALHR35X\")\n",
    "           res = client.query(question)\n",
    "           answer = next(res.results).text\n",
    "           speak(answer)\n",
    "           print(answer)\n",
    "\n",
    "       \n",
    "        elif \"log off\" in statement or \"sign out\" in statement or \"shut down\" in statement:\n",
    "           speak(\"ok,Your PC will shut down in 10 seconds - make sure you have saved and exit from all applications\")\n",
    "           subprocess.call(['shut down',\"/1\"])\n",
    "                  \n",
    "time.sleep(3)            "
   ]
  },
  {
   "cell_type": "code",
   "execution_count": null,
   "metadata": {},
   "outputs": [],
   "source": []
  }
 ],
 "metadata": {
  "kernelspec": {
   "display_name": "Python 3",
   "language": "python",
   "name": "python3"
  },
  "language_info": {
   "codemirror_mode": {
    "name": "ipython",
    "version": 3
   },
   "file_extension": ".py",
   "mimetype": "text/x-python",
   "name": "python",
   "nbconvert_exporter": "python",
   "pygments_lexer": "ipython3",
   "version": "3.8.3"
  }
 },
 "nbformat": 4,
 "nbformat_minor": 4
}
